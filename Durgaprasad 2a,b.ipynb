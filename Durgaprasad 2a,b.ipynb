{
 "cells": [
  {
   "cell_type": "code",
   "execution_count": null,
   "id": "a0950c65",
   "metadata": {},
   "outputs": [],
   "source": [
    "def fn(n):\n",
    " if n == 1:\n",
    " return 0\n",
    " elif n == 2:\n",
    " return 1\n",
    " else:\n",
    " return fn(n-1) + fn(n-2)\n",
    "\n",
    "num = int(input(\"Enter a number : \"))\n",
    "if num > 0:\n",
    " print(\"fn(\", num, \") = \",fn(num) , sep =\"\")\n",
    "else:\n",
    " print(\"Error in input\")"
   ]
  },
  {
   "cell_type": "code",
   "execution_count": null,
   "id": "a9de9d56",
   "metadata": {},
   "outputs": [],
   "source": [
    "def bin2Dec(val):\n",
    " rev=val[::-1]\n",
    " dec = 0\n",
    " i = 0\n",
    " for dig in rev:\n",
    " dec += int(dig) * 2**i\n",
    " i += 1\n",
    "\n",
    " return dec\n",
    "def oct2Hex(val):\n",
    " rev=val[::-1]\n",
    " dec = 0\n",
    " i = 0\n",
    " for dig in rev:\n",
    " dec += int(dig) * 8**i\n",
    " i += 1\n",
    " list=[]\n",
    " while dec != 0:\n",
    " list.append(dec%16)\n",
    " dec = dec // 16\n",
    "nl=[]\n",
    " for elem in list[::-1]:\n",
    " if elem <= 9:\n",
    " nl.append(str(elem))\n",
    " else:\n",
    " nl.append(chr(ord('A') + (elem -10)))\n",
    " hex = \"\".join(nl)\n",
    "\n",
    " return hex\n",
    "num1 = input(\"Enter a binary number : \")\n",
    "print(bin2Dec(num1))\n",
    "num2 = input(\"Enter a octal number : \")\n",
    "print(oct2Hex(num2))"
   ]
  }
 ],
 "metadata": {
  "kernelspec": {
   "display_name": "Python 3 (ipykernel)",
   "language": "python",
   "name": "python3"
  },
  "language_info": {
   "codemirror_mode": {
    "name": "ipython",
    "version": 3
   },
   "file_extension": ".py",
   "mimetype": "text/x-python",
   "name": "python",
   "nbconvert_exporter": "python",
   "pygments_lexer": "ipython3",
   "version": "3.10.9"
  }
 },
 "nbformat": 4,
 "nbformat_minor": 5
}
